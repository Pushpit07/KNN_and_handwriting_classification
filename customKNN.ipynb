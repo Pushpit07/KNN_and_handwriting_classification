{
  "nbformat": 4,
  "nbformat_minor": 0,
  "metadata": {
    "colab": {
      "name": "customKNN.ipynb",
      "provenance": [],
      "authorship_tag": "ABX9TyO/2RkNATi/d5pHfqCIeJXl",
      "include_colab_link": true
    },
    "kernelspec": {
      "name": "python3",
      "display_name": "Python 3"
    },
    "language_info": {
      "name": "python"
    }
  },
  "cells": [
    {
      "cell_type": "markdown",
      "metadata": {
        "id": "view-in-github",
        "colab_type": "text"
      },
      "source": [
        "<a href=\"https://colab.research.google.com/github/Pushpit07/KNN_and_handwriting_classification/blob/main/customKNN.ipynb\" target=\"_parent\"><img src=\"https://colab.research.google.com/assets/colab-badge.svg\" alt=\"Open In Colab\"/></a>"
      ]
    },
    {
      "cell_type": "markdown",
      "metadata": {
        "id": "Lj6f39jiiNRE"
      },
      "source": [
        "Custom KNN Implementation"
      ]
    },
    {
      "cell_type": "code",
      "metadata": {
        "id": "IshYAGfumNGn"
      },
      "source": [
        "import numpy as np"
      ],
      "execution_count": null,
      "outputs": []
    },
    {
      "cell_type": "code",
      "metadata": {
        "id": "RPwsLUIIiK7f"
      },
      "source": [
        "class CustomKNN:\n",
        "  # constructor\n",
        "  def __init__(self, n_neighbours=5):\n",
        "    self.n_neighbours = n_neighbours\n",
        "\n",
        "  # training function\n",
        "  def fit(self, X, y):\n",
        "    self._X = X.astype(np.int64)\n",
        "    self._y = y\n",
        "\n",
        "  # predict point\n",
        "  def predict_point(self, point):\n",
        "    list_dist = []\n",
        "\n",
        "    for x_point, y_point in zip(self._X, self._y):\n",
        "      dist_point = ((point - x_point)**2).sum()\n",
        "      list_dist.append([dist_point, y_point])\n",
        "\n",
        "    sorted_dist = sorted(list_dist)\n",
        "    top_k = sorted_dist[:self.n_neighbours]\n",
        "\n",
        "    items, counts = np.unique(np.array(top_k)[:, 1], return_counts=True)\n",
        "    ans = items[np.argmax(counts)]\n",
        "    return ans\n",
        "\n",
        "  # predict\n",
        "  def predict(self, X):\n",
        "    results = []\n",
        "\n",
        "    for point in X:\n",
        "      results.append(self.predict_point(point))\n",
        "    return np.array(results, dtype=int)\n",
        "\n",
        "  # score to measure accuracy\n",
        "  def score(self, X, y):\n",
        "    return sum(self.predict(X) == y) / len(y)"
      ],
      "execution_count": null,
      "outputs": []
    },
    {
      "cell_type": "code",
      "metadata": {
        "id": "VYOKPxEumOhz"
      },
      "source": [
        "m2 = CustomKNN()"
      ],
      "execution_count": null,
      "outputs": []
    },
    {
      "cell_type": "code",
      "metadata": {
        "id": "9j8bC2vbobnL"
      },
      "source": [
        "m2.fit(X_train, y_train)"
      ],
      "execution_count": null,
      "outputs": []
    },
    {
      "cell_type": "code",
      "metadata": {
        "id": "9vqUlvQApPm7"
      },
      "source": [
        "m2.predict(X_test[:10])"
      ],
      "execution_count": null,
      "outputs": []
    },
    {
      "cell_type": "code",
      "metadata": {
        "id": "eBXYESWCpP99"
      },
      "source": [
        "y_test[:10]"
      ],
      "execution_count": null,
      "outputs": []
    },
    {
      "cell_type": "code",
      "metadata": {
        "id": "sSju6Or0pRb7"
      },
      "source": [
        "m2.score(X_test[:100], y_test[:100])"
      ],
      "execution_count": null,
      "outputs": []
    },
    {
      "cell_type": "code",
      "metadata": {
        "id": "Mhv_zy0fpSuB"
      },
      "source": [
        ""
      ],
      "execution_count": null,
      "outputs": []
    }
  ]
}